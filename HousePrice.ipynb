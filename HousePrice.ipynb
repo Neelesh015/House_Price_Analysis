{
 "cells": [
  {
   "cell_type": "code",
   "execution_count": 1,
   "id": "7924397d",
   "metadata": {},
   "outputs": [],
   "source": [
    "# Import libraries\n",
    "import pandas as pdimport pandas as pd\n",
    "from sklearn.model_selection import train_test_split\n",
    "from sklearn.preprocessing import StandardScaler\n",
    "from sklearn.neighbors import KNeighborsClassifier\n",
    "from xgboost import XGBClassifier\n",
    "from sklearn.ensemble import RandomForestClassifier  \n",
    "from sklearn.metrics import accuracy_score, precision_score, recall_score, f1_score\n",
    "import matplotlib.pyplot as plt\n",
    "import numpy as np\n",
    "from sklearn.linear_model import Lasso\n",
    "import tensorflow as tf\n",
    "from tensorflow.keras.models import Sequential\n",
    "from tensorflow.keras.layers import LSTM, Dense\n",
    "from sklearn.model_selection import train_test_split\n",
    "from sklearn.preprocessing import LabelEncoder\n",
    "from sklearn.preprocessing import OneHotEncoder\n",
    "from scipy.cluster.hierarchy import dendrogram, linkage, fcluster\n",
    "from sklearn.linear_model import LinearRegression\n",
    "from sklearn.metrics import mean_squared_error, r2_score"
   ]
  },
  {
   "cell_type": "code",
   "execution_count": 2,
   "id": "228cc1b7",
   "metadata": {},
   "outputs": [],
   "source": [
    "df = pd.read_csv(\"C:/Users/neele/Downloads/archive (3)/house.csv\")"
   ]
  },
  {
   "cell_type": "code",
   "execution_count": 3,
   "id": "faeeb6c4",
   "metadata": {},
   "outputs": [
    {
     "name": "stdout",
     "output_type": "stream",
     "text": [
      "<class 'pandas.core.frame.DataFrame'>\n",
      "RangeIndex: 4045 entries, 0 to 4044\n",
      "Data columns (total 7 columns):\n",
      " #   Column           Non-Null Count  Dtype  \n",
      "---  ------           --------------  -----  \n",
      " 0   bedroom_count    4045 non-null   int64  \n",
      " 1   net_sqm          4045 non-null   float64\n",
      " 2   center_distance  4045 non-null   float64\n",
      " 3   metro_distance   4045 non-null   float64\n",
      " 4   floor            4045 non-null   int64  \n",
      " 5   age              4045 non-null   int64  \n",
      " 6   price            4045 non-null   float64\n",
      "dtypes: float64(4), int64(3)\n",
      "memory usage: 221.3 KB\n"
     ]
    }
   ],
   "source": [
    "df.info()"
   ]
  },
  {
   "cell_type": "code",
   "execution_count": 4,
   "id": "fa17270b",
   "metadata": {},
   "outputs": [
    {
     "data": {
      "text/html": [
       "<div>\n",
       "<style scoped>\n",
       "    .dataframe tbody tr th:only-of-type {\n",
       "        vertical-align: middle;\n",
       "    }\n",
       "\n",
       "    .dataframe tbody tr th {\n",
       "        vertical-align: top;\n",
       "    }\n",
       "\n",
       "    .dataframe thead th {\n",
       "        text-align: right;\n",
       "    }\n",
       "</style>\n",
       "<table border=\"1\" class=\"dataframe\">\n",
       "  <thead>\n",
       "    <tr style=\"text-align: right;\">\n",
       "      <th></th>\n",
       "      <th>bedroom_count</th>\n",
       "      <th>net_sqm</th>\n",
       "      <th>center_distance</th>\n",
       "      <th>metro_distance</th>\n",
       "      <th>floor</th>\n",
       "      <th>age</th>\n",
       "      <th>price</th>\n",
       "    </tr>\n",
       "  </thead>\n",
       "  <tbody>\n",
       "    <tr>\n",
       "      <th>count</th>\n",
       "      <td>4045.000000</td>\n",
       "      <td>4045.000000</td>\n",
       "      <td>4045.000000</td>\n",
       "      <td>4045.000000</td>\n",
       "      <td>4045.00000</td>\n",
       "      <td>4045.000000</td>\n",
       "      <td>4045.000000</td>\n",
       "    </tr>\n",
       "    <tr>\n",
       "      <th>mean</th>\n",
       "      <td>3.649691</td>\n",
       "      <td>111.628225</td>\n",
       "      <td>1007.115236</td>\n",
       "      <td>89.412340</td>\n",
       "      <td>9.55822</td>\n",
       "      <td>48.360198</td>\n",
       "      <td>95733.956499</td>\n",
       "    </tr>\n",
       "    <tr>\n",
       "      <th>std</th>\n",
       "      <td>2.465720</td>\n",
       "      <td>89.459307</td>\n",
       "      <td>578.706749</td>\n",
       "      <td>71.000440</td>\n",
       "      <td>7.70210</td>\n",
       "      <td>28.153029</td>\n",
       "      <td>3770.581749</td>\n",
       "    </tr>\n",
       "    <tr>\n",
       "      <th>min</th>\n",
       "      <td>1.000000</td>\n",
       "      <td>-8.499109</td>\n",
       "      <td>10.060000</td>\n",
       "      <td>-168.492932</td>\n",
       "      <td>1.00000</td>\n",
       "      <td>0.000000</td>\n",
       "      <td>84153.485790</td>\n",
       "    </tr>\n",
       "    <tr>\n",
       "      <th>25%</th>\n",
       "      <td>2.000000</td>\n",
       "      <td>50.168622</td>\n",
       "      <td>510.630000</td>\n",
       "      <td>39.283508</td>\n",
       "      <td>2.00000</td>\n",
       "      <td>24.000000</td>\n",
       "      <td>93199.037388</td>\n",
       "    </tr>\n",
       "    <tr>\n",
       "      <th>50%</th>\n",
       "      <td>3.000000</td>\n",
       "      <td>86.381463</td>\n",
       "      <td>1009.410000</td>\n",
       "      <td>89.031988</td>\n",
       "      <td>8.00000</td>\n",
       "      <td>48.000000</td>\n",
       "      <td>95474.254973</td>\n",
       "    </tr>\n",
       "    <tr>\n",
       "      <th>75%</th>\n",
       "      <td>5.000000</td>\n",
       "      <td>144.767416</td>\n",
       "      <td>1493.410000</td>\n",
       "      <td>140.493035</td>\n",
       "      <td>16.00000</td>\n",
       "      <td>72.000000</td>\n",
       "      <td>97863.622299</td>\n",
       "    </tr>\n",
       "    <tr>\n",
       "      <th>max</th>\n",
       "      <td>17.000000</td>\n",
       "      <td>750.971604</td>\n",
       "      <td>1999.840000</td>\n",
       "      <td>330.275317</td>\n",
       "      <td>24.00000</td>\n",
       "      <td>97.000000</td>\n",
       "      <td>118134.771190</td>\n",
       "    </tr>\n",
       "  </tbody>\n",
       "</table>\n",
       "</div>"
      ],
      "text/plain": [
       "       bedroom_count      net_sqm  center_distance  metro_distance  \\\n",
       "count    4045.000000  4045.000000      4045.000000     4045.000000   \n",
       "mean        3.649691   111.628225      1007.115236       89.412340   \n",
       "std         2.465720    89.459307       578.706749       71.000440   \n",
       "min         1.000000    -8.499109        10.060000     -168.492932   \n",
       "25%         2.000000    50.168622       510.630000       39.283508   \n",
       "50%         3.000000    86.381463      1009.410000       89.031988   \n",
       "75%         5.000000   144.767416      1493.410000      140.493035   \n",
       "max        17.000000   750.971604      1999.840000      330.275317   \n",
       "\n",
       "            floor          age          price  \n",
       "count  4045.00000  4045.000000    4045.000000  \n",
       "mean      9.55822    48.360198   95733.956499  \n",
       "std       7.70210    28.153029    3770.581749  \n",
       "min       1.00000     0.000000   84153.485790  \n",
       "25%       2.00000    24.000000   93199.037388  \n",
       "50%       8.00000    48.000000   95474.254973  \n",
       "75%      16.00000    72.000000   97863.622299  \n",
       "max      24.00000    97.000000  118134.771190  "
      ]
     },
     "execution_count": 4,
     "metadata": {},
     "output_type": "execute_result"
    }
   ],
   "source": [
    "df.describe()"
   ]
  },
  {
   "cell_type": "code",
   "execution_count": 5,
   "id": "1f3084d7",
   "metadata": {},
   "outputs": [
    {
     "data": {
      "text/plain": [
       "Index(['bedroom_count', 'net_sqm', 'center_distance', 'metro_distance',\n",
       "       'floor', 'age', 'price'],\n",
       "      dtype='object')"
      ]
     },
     "execution_count": 5,
     "metadata": {},
     "output_type": "execute_result"
    }
   ],
   "source": [
    "df.columns"
   ]
  },
  {
   "cell_type": "markdown",
   "id": "66f82007",
   "metadata": {
    "scrolled": true
   },
   "source": []
  },
  {
   "cell_type": "code",
   "execution_count": null,
   "id": "22d86e72",
   "metadata": {},
   "outputs": [],
   "source": []
  },
  {
   "cell_type": "markdown",
   "id": "a159866d",
   "metadata": {},
   "source": [
    "## Classification\n"
   ]
  },
  {
   "cell_type": "markdown",
   "id": "89ca52b7",
   "metadata": {},
   "source": [
    "### Applying KNN & Random Forest"
   ]
  },
  {
   "cell_type": "code",
   "execution_count": 8,
   "id": "2a4c4836",
   "metadata": {},
   "outputs": [
    {
     "name": "stdout",
     "output_type": "stream",
     "text": [
      "KNN Classifier Metrics:\n",
      "Accuracy: 0.957972805933251\n",
      "Precision: 0.8648648648648649\n",
      "Recall: 0.7272727272727273\n",
      "F1 Score: 0.7901234567901235\n",
      "\n",
      "Random Forest Classifier Metrics:\n",
      "Accuracy: 0.9530284301606922\n",
      "Precision: 0.8571428571428571\n",
      "Recall: 0.6818181818181818\n",
      "F1 Score: 0.759493670886076\n"
     ]
    }
   ],
   "source": [
    "\n",
    "# Define the threshold to classify as 0 or 1\n",
    "threshold = 100000  # Adjust this threshold as needed\n",
    "\n",
    "# Convert to binary classification\n",
    "df['price'] = (df['price'] > threshold).astype(int)\n",
    "\n",
    "# Preprocess the data\n",
    "# Assuming you have already handled missing values and categorical encoding\n",
    "X = df.drop(columns=['price'])  # Features\n",
    "y = df['price']  # Target variable\n",
    "\n",
    "# Split the data into training and testing sets (80% train, 20% test)\n",
    "X_train, X_test, y_train, y_test = train_test_split(X, y, test_size=0.2, random_state=42)\n",
    "\n",
    "#  Standardize the feature data \n",
    "scaler = StandardScaler()\n",
    "X_train_scaled = scaler.fit_transform(X_train)\n",
    "X_test_scaled = scaler.transform(X_test)\n",
    "\n",
    "#  Apply k-Nearest Neighbors (KNN) Classifier\n",
    "knn_classifier = KNeighborsClassifier(n_neighbors=5)\n",
    "knn_classifier.fit(X_train_scaled, y_train)\n",
    "y_pred_knn = knn_classifier.predict(X_test_scaled)\n",
    "\n",
    "# Evaluate KNN performance\n",
    "knn_accuracy = accuracy_score(y_test, y_pred_knn)\n",
    "knn_precision = precision_score(y_test, y_pred_knn, zero_division=1)\n",
    "knn_recall = recall_score(y_test, y_pred_knn, zero_division=1)\n",
    "knn_f1_score = f1_score(y_test, y_pred_knn, zero_division=1)\n",
    "\n",
    "print(\"KNN Classifier Metrics:\")\n",
    "print(f\"Accuracy: {knn_accuracy}\")\n",
    "print(f\"Precision: {knn_precision}\")\n",
    "print(f\"Recall: {knn_recall}\")\n",
    "print(f\"F1 Score: {knn_f1_score}\")\n",
    "\n",
    "\n",
    "#  Apply Random Forest Classifier\n",
    "rf_classifier = RandomForestClassifier(random_state=42)  # You can adjust hyperparameters\n",
    "rf_classifier.fit(X_train, y_train)\n",
    "y_pred_rf = rf_classifier.predict(X_test)\n",
    "\n",
    "# Evaluate Random Forest performance\n",
    "rf_accuracy = accuracy_score(y_test, y_pred_rf)\n",
    "rf_precision = precision_score(y_test, y_pred_rf, zero_division=1)\n",
    "rf_recall = recall_score(y_test, y_pred_rf, zero_division=1)\n",
    "rf_f1_score = f1_score(y_test, y_pred_rf, zero_division=1)\n",
    "\n",
    "print(\"\\nRandom Forest Classifier Metrics:\")\n",
    "print(f\"Accuracy: {rf_accuracy}\")\n",
    "print(f\"Precision: {rf_precision}\")\n",
    "print(f\"Recall: {rf_recall}\")\n",
    "print(f\"F1 Score: {rf_f1_score}\")\n"
   ]
  },
  {
   "cell_type": "markdown",
   "id": "7a326aee",
   "metadata": {},
   "source": [
    "## XGBoost"
   ]
  },
  {
   "cell_type": "code",
   "execution_count": 9,
   "id": "d01cedb9",
   "metadata": {},
   "outputs": [
    {
     "name": "stdout",
     "output_type": "stream",
     "text": [
      "\n",
      "XGBoost Classifier Metrics:\n",
      "Accuracy: 0.9567367119901112\n",
      "Precision: 0.8192771084337349\n",
      "Recall: 0.7727272727272727\n",
      "F1 Score: 0.7953216374269007\n"
     ]
    }
   ],
   "source": [
    "# XGBoost Classifier\n",
    "xgb_classifier = XGBClassifier(random_state=42)\n",
    "xgb_classifier.fit(X_train, y_train)\n",
    "y_pred_xgb = xgb_classifier.predict(X_test)\n",
    "\n",
    "# Evaluate XGBoost performance\n",
    "xgb_accuracy = accuracy_score(y_test, y_pred_xgb)\n",
    "xgb_precision = precision_score(y_test, y_pred_xgb, zero_division=1)  # Handle zero division\n",
    "xgb_recall = recall_score(y_test, y_pred_xgb, zero_division=1)  # Handle zero division\n",
    "xgb_f1_score = f1_score(y_test, y_pred_xgb, zero_division=1)  # Handle zero division\n",
    "\n",
    "print(\"\\nXGBoost Classifier Metrics:\")\n",
    "print(f\"Accuracy: {xgb_accuracy}\")\n",
    "print(f\"Precision: {xgb_precision}\")\n",
    "print(f\"Recall: {xgb_recall}\")\n",
    "print(f\"F1 Score: {xgb_f1_score}\")"
   ]
  },
  {
   "cell_type": "markdown",
   "id": "d83ebe89",
   "metadata": {},
   "source": [
    "## Perfromance Metrics for Classification Models"
   ]
  },
  {
   "cell_type": "code",
   "execution_count": 36,
   "id": "12bd1f4f",
   "metadata": {},
   "outputs": [
    {
     "data": {
      "image/png": "[encoded data removed]",
      "text/plain": [
       "<Figure size 864x432 with 1 Axes>"
      ]
     },
     "metadata": {
      "needs_background": "light"
     },
     "output_type": "display_data"
    }
   ],
   "source": [
    "\n",
    "\n",
    "# Define the metrics for each model\n",
    "models = ['KNN', 'XGBoost', 'Random Forest']\n",
    "accuracy = [knn_accuracy, xgb_accuracy, rf_accuracy] \n",
    "precision = [knn_precision, xgb_precision, rf_precision] \n",
    "recall = [knn_recall, xgb_recall, rf_recall]  \n",
    "f1_score = [knn_f1_score, xgb_f1_score, rf_f1_score]  \n",
    "\n",
    "# Set the width of the bars\n",
    "bar_width = 0.2\n",
    "\n",
    "# Set the positions of the bars on the x-axis\n",
    "index = np.arange(len(models))\n",
    "\n",
    "# Create subplots for each metric\n",
    "plt.figure(figsize=(12, 6))\n",
    "\n",
    "# Accuracy\n",
    "plt.bar(index, accuracy, bar_width, label='Accuracy', alpha=0.7)\n",
    "# Precision\n",
    "plt.bar(index + bar_width, precision, bar_width, label='Precision', alpha=0.7)\n",
    "# Recall\n",
    "plt.bar(index + 2 * bar_width, recall, bar_width, label='Recall', alpha=0.7)\n",
    "# F1 Score\n",
    "plt.bar(index + 3 * bar_width, f1_score, bar_width, label='F1 Score', alpha=0.7)\n",
    "\n",
    "\n",
    "plt.xlabel('Classification Models')\n",
    "plt.ylabel('Scores')\n",
    "plt.title('Performance Metrics for Classification Models')\n",
    "plt.xticks(index + 1.5 * bar_width, models)\n",
    "plt.legend()\n",
    "\n",
    "# Show the plot\n",
    "plt.tight_layout()\n",
    "plt.show()\n"
   ]
  },
  {
   "cell_type": "code",
   "execution_count": 17,
   "id": "d06f9ae4",
   "metadata": {},
   "outputs": [
    {
     "name": "stdout",
     "output_type": "stream",
     "text": [
      "Epoch 1/10\n",
      "65/65 [==============================] - 6s 25ms/step - loss: 0.3554 - accuracy: 0.8729 - val_loss: 0.2598 - val_accuracy: 0.8998\n",
      "Epoch 2/10\n",
      "65/65 [==============================] - 1s 11ms/step - loss: 0.2272 - accuracy: 0.8928 - val_loss: 0.1992 - val_accuracy: 0.9214\n",
      "Epoch 3/10\n",
      "65/65 [==============================] - 1s 10ms/step - loss: 0.1682 - accuracy: 0.9272 - val_loss: 0.1660 - val_accuracy: 0.9352\n",
      "Epoch 4/10\n",
      "65/65 [==============================] - 1s 11ms/step - loss: 0.1393 - accuracy: 0.9457 - val_loss: 0.1567 - val_accuracy: 0.9253\n",
      "Epoch 5/10\n",
      "65/65 [==============================] - 1s 12ms/step - loss: 0.1347 - accuracy: 0.9442 - val_loss: 0.1514 - val_accuracy: 0.9352\n",
      "Epoch 6/10\n",
      "65/65 [==============================] - 1s 11ms/step - loss: 0.1258 - accuracy: 0.9486 - val_loss: 0.1482 - val_accuracy: 0.9273\n",
      "Epoch 7/10\n",
      "65/65 [==============================] - 1s 11ms/step - loss: 0.1234 - accuracy: 0.9491 - val_loss: 0.1480 - val_accuracy: 0.9234\n",
      "Epoch 8/10\n",
      "65/65 [==============================] - 1s 11ms/step - loss: 0.1202 - accuracy: 0.9505 - val_loss: 0.1373 - val_accuracy: 0.9312\n",
      "Epoch 9/10\n",
      "65/65 [==============================] - 1s 12ms/step - loss: 0.1141 - accuracy: 0.9520 - val_loss: 0.1424 - val_accuracy: 0.9234\n",
      "Epoch 10/10\n",
      "65/65 [==============================] - 1s 11ms/step - loss: 0.1106 - accuracy: 0.9549 - val_loss: 0.1375 - val_accuracy: 0.9293\n",
      "25/25 [==============================] - 0s 6ms/step - loss: 0.1037 - accuracy: 0.9588\n",
      "Test Loss: 0.10370799154043198, Test Accuracy: 0.9587500095367432\n"
     ]
    }
   ],
   "source": [
    "sequence_length = 10  \n",
    "num_features = 6  \n",
    "num_classes = 2  \n",
    "\n",
    "# One-hot encode \n",
    "label_encoder = LabelEncoder()\n",
    "y_train_encoded = label_encoder.fit_transform(y_train)\n",
    "y_val_encoded = label_encoder.transform(y_val)\n",
    "y_test_encoded = label_encoder.transform(y_test)\n",
    "\n",
    "\n",
    "X_train_sequences = []\n",
    "y_train_sequences = []\n",
    "\n",
    "for i in range(len(X_train) - sequence_length + 1):\n",
    "    X_train_sequences.append(X_train[i:i+sequence_length])\n",
    "    y_train_sequences.append(y_train_encoded[i+sequence_length-1])\n",
    "\n",
    "X_train_sequences = np.array(X_train_sequences)\n",
    "y_train_sequences = np.array(y_train_sequences)\n",
    "\n",
    "# Create sequences from your validation data\n",
    "X_val_sequences = []\n",
    "y_val_sequences = []\n",
    "\n",
    "for i in range(len(X_val) - sequence_length + 1):\n",
    "    X_val_sequences.append(X_val[i:i+sequence_length])\n",
    "    y_val_sequences.append(y_val_encoded[i+sequence_length-1])\n",
    "\n",
    "X_val_sequences = np.array(X_val_sequences)\n",
    "y_val_sequences = np.array(y_val_sequences)\n",
    "\n",
    "# Create sequences from your test data\n",
    "X_test_sequences = []\n",
    "y_test_sequences = []\n",
    "\n",
    "for i in range(len(X_test) - sequence_length + 1):\n",
    "    X_test_sequences.append(X_test[i:i+sequence_length])\n",
    "    y_test_sequences.append(y_test_encoded[i+sequence_length-1])\n",
    "\n",
    "X_test_sequences = np.array(X_test_sequences)\n",
    "y_test_sequences = np.array(y_test_sequences)\n",
    "\n",
    "# Define and compile the LSTM model\n",
    "model = Sequential()\n",
    "model.add(LSTM(64, input_shape=(sequence_length, num_features)))  # Adjust units and input shape\n",
    "model.add(Dense(num_classes, activation='softmax'))  # Use 'softmax' for multi-class classification\n",
    "\n",
    "# Compile the model\n",
    "model.compile(loss='sparse_categorical_crossentropy', optimizer='adam', metrics=['accuracy'])\n",
    "\n",
    "# Train the LSTM model using X_train_sequences and y_train_sequences\n",
    "model.fit(X_train_sequences, y_train_sequences, epochs=10, batch_size=32, validation_data=(X_val_sequences, y_val_sequences))\n",
    "\n",
    "# Evaluate on test data\n",
    "loss, accuracy = model.evaluate(X_test_sequences, y_test_sequences)\n",
    "print(f\"Test Loss: {loss}, Test Accuracy: {accuracy}\")\n"
   ]
  },
  {
   "cell_type": "markdown",
   "id": "662e01d8",
   "metadata": {},
   "source": [
    "## Hierarchical Clustering"
   ]
  },
  {
   "cell_type": "code",
   "execution_count": 21,
   "id": "5f5d10f2",
   "metadata": {},
   "outputs": [
    {
     "data": {
      "image/png": "[encoded data removed]",
      "text/plain": [
       "<Figure size 864x432 with 1 Axes>"
      ]
     },
     "metadata": {
      "needs_background": "light"
     },
     "output_type": "display_data"
    },
    {
     "name": "stdout",
     "output_type": "stream",
     "text": [
      "Cluster Assignments:\n",
      "[2 1 2 2 2 1 2 2 2 2]\n"
     ]
    }
   ],
   "source": [
    "np.random.seed(0)\n",
    "data = np.random.randn(10, 2)\n",
    "\n",
    "# Perform hierarchical clustering\n",
    "linked = linkage(data, 'ward')  # Using 'ward' linkage method\n",
    "\n",
    "# Create a dendrogram\n",
    "plt.figure(figsize=(12, 6))\n",
    "dendrogram(linked,\n",
    "           orientation='top',\n",
    "           labels=None,  # You can specify labels here if you have them\n",
    "           distance_sort='descending',\n",
    "           show_leaf_counts=True)\n",
    "plt.title('Hierarchical Clustering Dendrogram')\n",
    "plt.xlabel('Sample Index')\n",
    "plt.ylabel('Distance')\n",
    "plt.show()\n",
    "\n",
    "# Choose a threshold to cut the dendrogram (adjust as needed)\n",
    "threshold = 2.5  # You can adjust this threshold\n",
    "\n",
    "# Assign data points to clusters based on the threshold\n",
    "clusters = fcluster(linked, threshold, criterion='distance')\n",
    "\n",
    "# Print cluster assignments\n",
    "print(\"Cluster Assignments:\")\n",
    "print(clusters)\n"
   ]
  },
  {
   "cell_type": "markdown",
   "id": "ede3ec4f",
   "metadata": {},
   "source": [
    "### Regression"
   ]
  },
  {
   "cell_type": "code",
   "execution_count": 25,
   "id": "a637917c",
   "metadata": {},
   "outputs": [],
   "source": [
    "#Train dataset \n",
    "from sklearn.model_selection import train_test_split\n",
    "\n",
    "X_train, X_test, y_train, y_test = train_test_split(X, y, test_size=0.2, random_state=42)\n"
   ]
  },
  {
   "cell_type": "code",
   "execution_count": 30,
   "id": "2a648c41",
   "metadata": {},
   "outputs": [
    {
     "name": "stdout",
     "output_type": "stream",
     "text": [
      "linear Regression Metrics: \n",
      "Mean Squared Error: 0.047952815144908505\n",
      "R-squared: 0.5053554657537689\n"
     ]
    }
   ],
   "source": [
    "linear_reg = LinearRegression()\n",
    "linear_reg.fit(X_train, y_train)\n",
    "\n",
    "y_pred_linear = linear_reg.predict(X_test)\n",
    "\n",
    "linear_mse = mean_squared_error(y_test, y_pred_linear)\n",
    "linear_r2 = r2_score(y_test,y_pred_linear)\n",
    "\n",
    "print(\"linear Regression Metrics: \")\n",
    "print(f\"Mean Squared Error: {linear_mse}\")\n",
    "print(f\"R-squared: {linear_r2}\")"
   ]
  },
  {
   "cell_type": "markdown",
   "id": "39d8fcc1",
   "metadata": {},
   "source": [
    "## Ridge Regression"
   ]
  },
  {
   "cell_type": "code",
   "execution_count": 31,
   "id": "f7e25620",
   "metadata": {},
   "outputs": [
    {
     "name": "stdout",
     "output_type": "stream",
     "text": [
      "\n",
      "Ridge Regression Metrics:\n",
      "Mean Squared Error: 0.047952804726687545\n",
      "R-squared: 0.5053555732201614\n"
     ]
    }
   ],
   "source": [
    "from sklearn.linear_model import Ridge\n",
    "\n",
    "ridge_reg = Ridge(alpha=1.0)  \n",
    "ridge_reg.fit(X_train, y_train)\n",
    "\n",
    "# Predict using the ridge regression model\n",
    "y_pred_ridge = ridge_reg.predict(X_test)\n",
    "\n",
    "# Evaluate the model\n",
    "ridge_mse = mean_squared_error(y_test, y_pred_ridge)\n",
    "ridge_r2 = r2_score(y_test, y_pred_ridge)\n",
    "\n",
    "print(\"\\nRidge Regression Metrics:\")\n",
    "print(f\"Mean Squared Error: {ridge_mse}\")\n",
    "print(f\"R-squared: {ridge_r2}\")\n"
   ]
  },
  {
   "cell_type": "markdown",
   "id": "272d3bc8",
   "metadata": {},
   "source": [
    "## Lasso Regression"
   ]
  },
  {
   "cell_type": "code",
   "execution_count": 33,
   "id": "6db8421b",
   "metadata": {},
   "outputs": [
    {
     "name": "stdout",
     "output_type": "stream",
     "text": [
      "\n",
      "Lasso Regression Metrics:\n",
      "Mean Squared Error: 0.0492924349920312\n",
      "R-squared: 0.49153697285935594\n"
     ]
    }
   ],
   "source": [
    "\n",
    "lasso_reg = Lasso(alpha = 1.0)\n",
    "lasso_reg.fit(X_train,y_train)\n",
    "\n",
    "y_pred_lasso = lasso_reg.predict(X_test)\n",
    "\n",
    "lasso_mse = mean_squared_error(y_test, y_pred_lasso)\n",
    "lasso_r2 = r2_score(y_test, y_pred_lasso)\n",
    "\n",
    "print(\"\\nLasso Regression Metrics:\")\n",
    "print(f\"Mean Squared Error: {lasso_mse}\")\n",
    "print(f\"R-squared: {lasso_r2}\")"
   ]
  },
  {
   "cell_type": "markdown",
   "id": "e0597583",
   "metadata": {},
   "source": [
    "## Combined Regression Plot"
   ]
  },
  {
   "cell_type": "code",
   "execution_count": 35,
   "id": "df0b8843",
   "metadata": {},
   "outputs": [
    {
     "data": {
      "image/png": "[encoded data removed]",
      "text/plain": [
       "<Figure size 720x432 with 1 Axes>"
      ]
     },
     "metadata": {
      "needs_background": "light"
     },
     "output_type": "display_data"
    }
   ],
   "source": [
    "esiduals_linear = y_test - y_pred_linear\n",
    "residuals_ridge = y_test - y_pred_ridge\n",
    "residuals_lasso = y_test - y_pred_lasso\n",
    "\n",
    "plt.figure(figsize=(10, 6))\n",
    "\n",
    "plt.scatter(y_pred_linear, residuals_linear, label='Linear Regression', alpha=0.5)\n",
    "plt.scatter(y_pred_ridge, residuals_ridge, label='Ridge Regression', alpha=0.5)\n",
    "plt.scatter(y_pred_lasso, residuals_lasso, label='Lasso Regression', alpha=0.5)\n",
    "\n",
    "plt.title('Residuals for Regression Models')\n",
    "plt.xlabel('Predicted Values')\n",
    "plt.ylabel('Residuals')\n",
    "plt.legend()\n",
    "plt.grid(True)\n",
    "\n",
    "plt.show()\n"
   ]
  }
 ],
 "metadata": {
  "kernelspec": {
   "display_name": "Python 3 (ipykernel)",
   "language": "python",
   "name": "python3"
  },
  "language_info": {
   "codemirror_mode": {
    "name": "ipython",
    "version": 3
   },
   "file_extension": ".py",
   "mimetype": "text/x-python",
   "name": "python",
   "nbconvert_exporter": "python",
   "pygments_lexer": "ipython3",
   "version": "3.9.7"
  }
 },
 "nbformat": 4,
 "nbformat_minor": 5
}
